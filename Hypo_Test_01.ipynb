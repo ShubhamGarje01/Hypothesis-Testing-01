{
 "cells": [
  {
   "cell_type": "code",
   "execution_count": 1,
   "id": "eec72ae0",
   "metadata": {},
   "outputs": [],
   "source": [
    "import pandas as pd"
   ]
  },
  {
   "cell_type": "code",
   "execution_count": 2,
   "id": "4cbe371f",
   "metadata": {},
   "outputs": [],
   "source": [
    "var = pd.read_csv(\"D:\\ExcelR_Classes_Data\\Assignments\\Data_Science\\Assignment - 03 (Hypothesis Testing)\\Cutlets.csv\")"
   ]
  },
  {
   "cell_type": "code",
   "execution_count": 6,
   "id": "5bb6a5ab",
   "metadata": {},
   "outputs": [
    {
     "data": {
      "text/html": [
       "<div>\n",
       "<style scoped>\n",
       "    .dataframe tbody tr th:only-of-type {\n",
       "        vertical-align: middle;\n",
       "    }\n",
       "\n",
       "    .dataframe tbody tr th {\n",
       "        vertical-align: top;\n",
       "    }\n",
       "\n",
       "    .dataframe thead th {\n",
       "        text-align: right;\n",
       "    }\n",
       "</style>\n",
       "<table border=\"1\" class=\"dataframe\">\n",
       "  <thead>\n",
       "    <tr style=\"text-align: right;\">\n",
       "      <th></th>\n",
       "      <th>Unit A</th>\n",
       "      <th>Unit B</th>\n",
       "    </tr>\n",
       "  </thead>\n",
       "  <tbody>\n",
       "    <tr>\n",
       "      <th>0</th>\n",
       "      <td>6.8090</td>\n",
       "      <td>6.7703</td>\n",
       "    </tr>\n",
       "    <tr>\n",
       "      <th>1</th>\n",
       "      <td>6.4376</td>\n",
       "      <td>7.5093</td>\n",
       "    </tr>\n",
       "    <tr>\n",
       "      <th>2</th>\n",
       "      <td>6.9157</td>\n",
       "      <td>6.7300</td>\n",
       "    </tr>\n",
       "    <tr>\n",
       "      <th>3</th>\n",
       "      <td>7.3012</td>\n",
       "      <td>6.7878</td>\n",
       "    </tr>\n",
       "    <tr>\n",
       "      <th>4</th>\n",
       "      <td>7.4488</td>\n",
       "      <td>7.1522</td>\n",
       "    </tr>\n",
       "  </tbody>\n",
       "</table>\n",
       "</div>"
      ],
      "text/plain": [
       "   Unit A  Unit B\n",
       "0  6.8090  6.7703\n",
       "1  6.4376  7.5093\n",
       "2  6.9157  6.7300\n",
       "3  7.3012  6.7878\n",
       "4  7.4488  7.1522"
      ]
     },
     "execution_count": 6,
     "metadata": {},
     "output_type": "execute_result"
    }
   ],
   "source": [
    "var.head()"
   ]
  },
  {
   "cell_type": "code",
   "execution_count": 4,
   "id": "79f2e7f4",
   "metadata": {},
   "outputs": [],
   "source": [
    "import matplotlib.pyplot as plt"
   ]
  },
  {
   "cell_type": "code",
   "execution_count": 5,
   "id": "9ccd3158",
   "metadata": {},
   "outputs": [
    {
     "data": {
      "text/plain": [
       "<matplotlib.collections.PathCollection at 0x26dbb2d61c0>"
      ]
     },
     "execution_count": 5,
     "metadata": {},
     "output_type": "execute_result"
    },
    {
     "data": {
      "image/png": "[encoded data removed]",
      "text/plain": [
       "<Figure size 432x288 with 1 Axes>"
      ]
     },
     "metadata": {
      "needs_background": "light"
     },
     "output_type": "display_data"
    }
   ],
   "source": [
    "plt.scatter(x = var['Unit A'], y = var['Unit B'])"
   ]
  },
  {
   "cell_type": "markdown",
   "id": "cf5bd7fd",
   "metadata": {},
   "source": [
    "## Assumptions\n",
    "\n",
    "### Null Hypothesis(Ho) is Unit A = Unit B (no diffrence)\n",
    "### Alernate Hypothesis (Ha) is Unit A ≠ Unit B (There is a diffrence)"
   ]
  },
  {
   "cell_type": "code",
   "execution_count": 8,
   "id": "fdedd928",
   "metadata": {},
   "outputs": [],
   "source": [
    "unit_A = pd.Series(var['Unit A'].iloc[:])"
   ]
  },
  {
   "cell_type": "code",
   "execution_count": 9,
   "id": "57a2f334",
   "metadata": {},
   "outputs": [
    {
     "data": {
      "text/plain": [
       "0    6.8090\n",
       "1    6.4376\n",
       "2    6.9157\n",
       "3    7.3012\n",
       "4    7.4488\n",
       "Name: Unit A, dtype: float64"
      ]
     },
     "execution_count": 9,
     "metadata": {},
     "output_type": "execute_result"
    }
   ],
   "source": [
    "unit_A.head()"
   ]
  },
  {
   "cell_type": "code",
   "execution_count": 10,
   "id": "00f77706",
   "metadata": {},
   "outputs": [],
   "source": [
    "unit_B = pd.Series(var['Unit B'].iloc[:])"
   ]
  },
  {
   "cell_type": "code",
   "execution_count": 11,
   "id": "cd59dc7f",
   "metadata": {},
   "outputs": [
    {
     "data": {
      "text/plain": [
       "0    6.7703\n",
       "1    7.5093\n",
       "2    6.7300\n",
       "3    6.7878\n",
       "4    7.1522\n",
       "Name: Unit B, dtype: float64"
      ]
     },
     "execution_count": 11,
     "metadata": {},
     "output_type": "execute_result"
    }
   ],
   "source": [
    "unit_B.head()"
   ]
  },
  {
   "cell_type": "markdown",
   "id": "c72f642b",
   "metadata": {},
   "source": [
    "## To check the diffrence between measurements we perform the Two Tail Test\n",
    "### two sample = two tail test"
   ]
  },
  {
   "cell_type": "code",
   "execution_count": 17,
   "id": "4b824a14",
   "metadata": {},
   "outputs": [
    {
     "data": {
      "text/plain": [
       "7.01909142857143"
      ]
     },
     "execution_count": 17,
     "metadata": {},
     "output_type": "execute_result"
    }
   ],
   "source": [
    "ua = unit_A.mean()\n",
    "ua"
   ]
  },
  {
   "cell_type": "code",
   "execution_count": 18,
   "id": "09683256",
   "metadata": {},
   "outputs": [
    {
     "data": {
      "text/plain": [
       "6.964297142857142"
      ]
     },
     "execution_count": 18,
     "metadata": {},
     "output_type": "execute_result"
    }
   ],
   "source": [
    "ub = unit_B.mean()\n",
    "ub"
   ]
  },
  {
   "cell_type": "code",
   "execution_count": 29,
   "id": "97cc59e5",
   "metadata": {},
   "outputs": [],
   "source": [
    "from scipy import stats"
   ]
  },
  {
   "cell_type": "code",
   "execution_count": 30,
   "id": "779d98f0",
   "metadata": {},
   "outputs": [
    {
     "data": {
      "text/plain": [
       "Ttest_indResult(statistic=0.7228688704678063, pvalue=0.4722394724599501)"
      ]
     },
     "execution_count": 30,
     "metadata": {},
     "output_type": "execute_result"
    }
   ],
   "source": [
    "stats.ttest_ind(unit_A, unit_B)"
   ]
  },
  {
   "cell_type": "markdown",
   "id": "31f0ebf3",
   "metadata": {},
   "source": [
    "## Test Statistics is: 0.7228688704678063\n",
    "## P-Value of t test is : 0.4722394724599501\n",
    "## degree of freedom is : 68.0 (manually calculated)"
   ]
  },
  {
   "cell_type": "code",
   "execution_count": 31,
   "id": "de991ae0",
   "metadata": {},
   "outputs": [],
   "source": [
    "# p-value is greater than alpha (which is given as significance level = 5%) then we accept Null Hypothesis\n",
    "#else we accept alternate hypothesis."
   ]
  },
  {
   "cell_type": "markdown",
   "id": "5aa602ba",
   "metadata": {},
   "source": [
    "## P value (0.472239) > alpha (0.05),\n",
    "### hence we are accepting Null Hypothesis."
   ]
  },
  {
   "cell_type": "markdown",
   "id": "2c4da837",
   "metadata": {},
   "source": [
    "###  no difference in diameters of cutlets between two units"
   ]
  },
  {
   "cell_type": "code",
   "execution_count": null,
   "id": "12873b22",
   "metadata": {},
   "outputs": [],
   "source": []
  }
 ],
 "metadata": {
  "kernelspec": {
   "display_name": "Python 3",
   "language": "python",
   "name": "python3"
  },
  "language_info": {
   "codemirror_mode": {
    "name": "ipython",
    "version": 3
   },
   "file_extension": ".py",
   "mimetype": "text/x-python",
   "name": "python",
   "nbconvert_exporter": "python",
   "pygments_lexer": "ipython3",
   "version": "3.8.8"
  }
 },
 "nbformat": 4,
 "nbformat_minor": 5
}
